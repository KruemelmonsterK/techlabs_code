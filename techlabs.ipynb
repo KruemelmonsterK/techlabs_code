{
 "cells": [
  {
   "cell_type": "markdown",
   "metadata": {},
   "source": [
    "## ???\n",
    "- ??? 1:\n",
    "\n",
    "# TODO\n",
    "- TODO 1: requirements.txt erstellen und exportieren -> Ziel: Jemand soll den Code von GitHub runter laden sollen und das Projekt lokal zum laufen bringen können"
   ]
  },
  {
   "cell_type": "markdown",
   "metadata": {},
   "source": [
    "<hr style=\"border:2px solid gray\"> </hr> \n",
    "\n",
    "# 0 Installed and imported packages"
   ]
  },
  {
   "cell_type": "code",
   "execution_count": 19,
   "metadata": {},
   "outputs": [],
   "source": [
    "# install  packages\n",
    "# !conda install jupyter\n",
    "# !conda install numpy\n",
    "# !conda isntall pandas\n",
    "\n",
    "# import packages\n",
    "# !conda install jupyter\n",
    "import numpy as np\n",
    "import pandas as pd\n",
    "\n",
    "# TODO 1"
   ]
  },
  {
   "cell_type": "markdown",
   "metadata": {},
   "source": [
    "<hr style=\"border:2px solid gray\"> </hr> \n",
    "\n",
    "# 1 Data Preparation"
   ]
  },
  {
   "cell_type": "code",
   "execution_count": 20,
   "metadata": {},
   "outputs": [],
   "source": [
    "df = pd.read_csv(\"data/World-Stock-Prices-Dataset.csv\")"
   ]
  },
  {
   "cell_type": "code",
   "execution_count": 21,
   "metadata": {},
   "outputs": [
    {
     "data": {
      "text/html": [
       "<div>\n",
       "<style scoped>\n",
       "    .dataframe tbody tr th:only-of-type {\n",
       "        vertical-align: middle;\n",
       "    }\n",
       "\n",
       "    .dataframe tbody tr th {\n",
       "        vertical-align: top;\n",
       "    }\n",
       "\n",
       "    .dataframe thead th {\n",
       "        text-align: right;\n",
       "    }\n",
       "</style>\n",
       "<table border=\"1\" class=\"dataframe\">\n",
       "  <thead>\n",
       "    <tr style=\"text-align: right;\">\n",
       "      <th></th>\n",
       "      <th>Date</th>\n",
       "      <th>Open</th>\n",
       "      <th>High</th>\n",
       "      <th>Low</th>\n",
       "      <th>Close</th>\n",
       "      <th>Volume</th>\n",
       "      <th>Brand_Name</th>\n",
       "      <th>Ticker</th>\n",
       "      <th>Industry_Tag</th>\n",
       "      <th>Country</th>\n",
       "      <th>Dividends</th>\n",
       "      <th>Stock Splits</th>\n",
       "      <th>Capital Gains</th>\n",
       "    </tr>\n",
       "  </thead>\n",
       "  <tbody>\n",
       "    <tr>\n",
       "      <th>0</th>\n",
       "      <td>2024-08-16 00:00:00-04:00</td>\n",
       "      <td>3.220000</td>\n",
       "      <td>3.270000</td>\n",
       "      <td>3.105000</td>\n",
       "      <td>3.210000</td>\n",
       "      <td>12591101.0</td>\n",
       "      <td>peloton</td>\n",
       "      <td>PTON</td>\n",
       "      <td>fitness</td>\n",
       "      <td>usa</td>\n",
       "      <td>0.0</td>\n",
       "      <td>0.0</td>\n",
       "      <td>NaN</td>\n",
       "    </tr>\n",
       "    <tr>\n",
       "      <th>1</th>\n",
       "      <td>2024-08-16 00:00:00-04:00</td>\n",
       "      <td>211.119995</td>\n",
       "      <td>219.800003</td>\n",
       "      <td>210.800003</td>\n",
       "      <td>216.119995</td>\n",
       "      <td>88369547.0</td>\n",
       "      <td>tesla</td>\n",
       "      <td>TSLA</td>\n",
       "      <td>automotive</td>\n",
       "      <td>usa</td>\n",
       "      <td>0.0</td>\n",
       "      <td>0.0</td>\n",
       "      <td>NaN</td>\n",
       "    </tr>\n",
       "    <tr>\n",
       "      <th>2</th>\n",
       "      <td>2024-08-16 00:00:00-04:00</td>\n",
       "      <td>877.349976</td>\n",
       "      <td>877.349976</td>\n",
       "      <td>868.619995</td>\n",
       "      <td>870.590027</td>\n",
       "      <td>1451414.0</td>\n",
       "      <td>costco</td>\n",
       "      <td>COST</td>\n",
       "      <td>retail</td>\n",
       "      <td>usa</td>\n",
       "      <td>0.0</td>\n",
       "      <td>0.0</td>\n",
       "      <td>NaN</td>\n",
       "    </tr>\n",
       "    <tr>\n",
       "      <th>3</th>\n",
       "      <td>2024-08-16 00:00:00-04:00</td>\n",
       "      <td>177.110001</td>\n",
       "      <td>178.339996</td>\n",
       "      <td>176.260101</td>\n",
       "      <td>177.059998</td>\n",
       "      <td>31244026.0</td>\n",
       "      <td>amazon</td>\n",
       "      <td>AMZN</td>\n",
       "      <td>e-commerce</td>\n",
       "      <td>usa</td>\n",
       "      <td>0.0</td>\n",
       "      <td>0.0</td>\n",
       "      <td>NaN</td>\n",
       "    </tr>\n",
       "    <tr>\n",
       "      <th>4</th>\n",
       "      <td>2024-08-16 00:00:00-04:00</td>\n",
       "      <td>223.919998</td>\n",
       "      <td>226.827103</td>\n",
       "      <td>223.650101</td>\n",
       "      <td>226.050003</td>\n",
       "      <td>42366146.0</td>\n",
       "      <td>apple</td>\n",
       "      <td>AAPL</td>\n",
       "      <td>technology</td>\n",
       "      <td>usa</td>\n",
       "      <td>0.0</td>\n",
       "      <td>0.0</td>\n",
       "      <td>NaN</td>\n",
       "    </tr>\n",
       "  </tbody>\n",
       "</table>\n",
       "</div>"
      ],
      "text/plain": [
       "                        Date        Open        High         Low       Close  \\\n",
       "0  2024-08-16 00:00:00-04:00    3.220000    3.270000    3.105000    3.210000   \n",
       "1  2024-08-16 00:00:00-04:00  211.119995  219.800003  210.800003  216.119995   \n",
       "2  2024-08-16 00:00:00-04:00  877.349976  877.349976  868.619995  870.590027   \n",
       "3  2024-08-16 00:00:00-04:00  177.110001  178.339996  176.260101  177.059998   \n",
       "4  2024-08-16 00:00:00-04:00  223.919998  226.827103  223.650101  226.050003   \n",
       "\n",
       "       Volume Brand_Name Ticker Industry_Tag Country  Dividends  Stock Splits  \\\n",
       "0  12591101.0    peloton   PTON      fitness     usa        0.0           0.0   \n",
       "1  88369547.0      tesla   TSLA   automotive     usa        0.0           0.0   \n",
       "2   1451414.0     costco   COST       retail     usa        0.0           0.0   \n",
       "3  31244026.0     amazon   AMZN   e-commerce     usa        0.0           0.0   \n",
       "4  42366146.0      apple   AAPL   technology     usa        0.0           0.0   \n",
       "\n",
       "   Capital Gains  \n",
       "0            NaN  \n",
       "1            NaN  \n",
       "2            NaN  \n",
       "3            NaN  \n",
       "4            NaN  "
      ]
     },
     "execution_count": 21,
     "metadata": {},
     "output_type": "execute_result"
    }
   ],
   "source": [
    "df.head()"
   ]
  },
  {
   "cell_type": "code",
   "execution_count": 22,
   "metadata": {},
   "outputs": [
    {
     "data": {
      "text/html": [
       "<div>\n",
       "<style scoped>\n",
       "    .dataframe tbody tr th:only-of-type {\n",
       "        vertical-align: middle;\n",
       "    }\n",
       "\n",
       "    .dataframe tbody tr th {\n",
       "        vertical-align: top;\n",
       "    }\n",
       "\n",
       "    .dataframe thead th {\n",
       "        text-align: right;\n",
       "    }\n",
       "</style>\n",
       "<table border=\"1\" class=\"dataframe\">\n",
       "  <thead>\n",
       "    <tr style=\"text-align: right;\">\n",
       "      <th></th>\n",
       "      <th>Date</th>\n",
       "      <th>Open</th>\n",
       "      <th>High</th>\n",
       "      <th>Low</th>\n",
       "      <th>Close</th>\n",
       "      <th>Volume</th>\n",
       "      <th>Brand_Name</th>\n",
       "      <th>Ticker</th>\n",
       "      <th>Industry_Tag</th>\n",
       "      <th>Country</th>\n",
       "      <th>Dividends</th>\n",
       "      <th>Stock Splits</th>\n",
       "      <th>Capital Gains</th>\n",
       "    </tr>\n",
       "  </thead>\n",
       "  <tbody>\n",
       "    <tr>\n",
       "      <th>0</th>\n",
       "      <td>2024-08-16 00:00:00-04:00</td>\n",
       "      <td>3.220000</td>\n",
       "      <td>3.270000</td>\n",
       "      <td>3.105000</td>\n",
       "      <td>3.210000</td>\n",
       "      <td>12591101.0</td>\n",
       "      <td>peloton</td>\n",
       "      <td>PTON</td>\n",
       "      <td>fitness</td>\n",
       "      <td>usa</td>\n",
       "      <td>0.0</td>\n",
       "      <td>0.0</td>\n",
       "      <td>NaN</td>\n",
       "    </tr>\n",
       "    <tr>\n",
       "      <th>1</th>\n",
       "      <td>2024-08-16 00:00:00-04:00</td>\n",
       "      <td>211.119995</td>\n",
       "      <td>219.800003</td>\n",
       "      <td>210.800003</td>\n",
       "      <td>216.119995</td>\n",
       "      <td>88369547.0</td>\n",
       "      <td>tesla</td>\n",
       "      <td>TSLA</td>\n",
       "      <td>automotive</td>\n",
       "      <td>usa</td>\n",
       "      <td>0.0</td>\n",
       "      <td>0.0</td>\n",
       "      <td>NaN</td>\n",
       "    </tr>\n",
       "    <tr>\n",
       "      <th>2</th>\n",
       "      <td>2024-08-16 00:00:00-04:00</td>\n",
       "      <td>877.349976</td>\n",
       "      <td>877.349976</td>\n",
       "      <td>868.619995</td>\n",
       "      <td>870.590027</td>\n",
       "      <td>1451414.0</td>\n",
       "      <td>costco</td>\n",
       "      <td>COST</td>\n",
       "      <td>retail</td>\n",
       "      <td>usa</td>\n",
       "      <td>0.0</td>\n",
       "      <td>0.0</td>\n",
       "      <td>NaN</td>\n",
       "    </tr>\n",
       "    <tr>\n",
       "      <th>3</th>\n",
       "      <td>2024-08-16 00:00:00-04:00</td>\n",
       "      <td>177.110001</td>\n",
       "      <td>178.339996</td>\n",
       "      <td>176.260101</td>\n",
       "      <td>177.059998</td>\n",
       "      <td>31244026.0</td>\n",
       "      <td>amazon</td>\n",
       "      <td>AMZN</td>\n",
       "      <td>e-commerce</td>\n",
       "      <td>usa</td>\n",
       "      <td>0.0</td>\n",
       "      <td>0.0</td>\n",
       "      <td>NaN</td>\n",
       "    </tr>\n",
       "    <tr>\n",
       "      <th>4</th>\n",
       "      <td>2024-08-16 00:00:00-04:00</td>\n",
       "      <td>223.919998</td>\n",
       "      <td>226.827103</td>\n",
       "      <td>223.650101</td>\n",
       "      <td>226.050003</td>\n",
       "      <td>42366146.0</td>\n",
       "      <td>apple</td>\n",
       "      <td>AAPL</td>\n",
       "      <td>technology</td>\n",
       "      <td>usa</td>\n",
       "      <td>0.0</td>\n",
       "      <td>0.0</td>\n",
       "      <td>NaN</td>\n",
       "    </tr>\n",
       "  </tbody>\n",
       "</table>\n",
       "</div>"
      ],
      "text/plain": [
       "                        Date        Open        High         Low       Close  \\\n",
       "0  2024-08-16 00:00:00-04:00    3.220000    3.270000    3.105000    3.210000   \n",
       "1  2024-08-16 00:00:00-04:00  211.119995  219.800003  210.800003  216.119995   \n",
       "2  2024-08-16 00:00:00-04:00  877.349976  877.349976  868.619995  870.590027   \n",
       "3  2024-08-16 00:00:00-04:00  177.110001  178.339996  176.260101  177.059998   \n",
       "4  2024-08-16 00:00:00-04:00  223.919998  226.827103  223.650101  226.050003   \n",
       "\n",
       "       Volume Brand_Name Ticker Industry_Tag Country  Dividends  Stock Splits  \\\n",
       "0  12591101.0    peloton   PTON      fitness     usa        0.0           0.0   \n",
       "1  88369547.0      tesla   TSLA   automotive     usa        0.0           0.0   \n",
       "2   1451414.0     costco   COST       retail     usa        0.0           0.0   \n",
       "3  31244026.0     amazon   AMZN   e-commerce     usa        0.0           0.0   \n",
       "4  42366146.0      apple   AAPL   technology     usa        0.0           0.0   \n",
       "\n",
       "   Capital Gains  \n",
       "0            NaN  \n",
       "1            NaN  \n",
       "2            NaN  \n",
       "3            NaN  \n",
       "4            NaN  "
      ]
     },
     "execution_count": 22,
     "metadata": {},
     "output_type": "execute_result"
    }
   ],
   "source": [
    "df.head()"
   ]
  },
  {
   "cell_type": "markdown",
   "metadata": {},
   "source": [
    "## 1.1 Data Cleaning"
   ]
  },
  {
   "cell_type": "code",
   "execution_count": null,
   "metadata": {},
   "outputs": [],
   "source": []
  },
  {
   "cell_type": "markdown",
   "metadata": {},
   "source": [
    "## 1.2 Feature Engineering"
   ]
  },
  {
   "cell_type": "code",
   "execution_count": null,
   "metadata": {},
   "outputs": [],
   "source": []
  },
  {
   "cell_type": "markdown",
   "metadata": {},
   "source": [
    "<hr style=\"border:2px solid gray\"> </hr> \n",
    "\n",
    "# 2 Analysis"
   ]
  },
  {
   "cell_type": "markdown",
   "metadata": {},
   "source": [
    "## 2.1 AF: Which stocks or industries have shown the most consistent long-term growth?"
   ]
  },
  {
   "cell_type": "markdown",
   "metadata": {},
   "source": [
    "## 2.1 AF: Which stocks or industries are the most volatile? What are the top 10 most volatile industries?"
   ]
  },
  {
   "cell_type": "markdown",
   "metadata": {},
   "source": [
    "## 2.3 KG: How do stocks that regularly pay dividends perform compared to those that do not?"
   ]
  },
  {
   "cell_type": "markdown",
   "metadata": {},
   "source": [
    "<hr style=\"border:2px solid gray\"> </hr> \n",
    "\n",
    "# 3 Visualization"
   ]
  },
  {
   "cell_type": "markdown",
   "metadata": {},
   "source": [
    "## 3.1 AF: Which stocks or industries have shown the most consistent long-term growth?"
   ]
  },
  {
   "cell_type": "markdown",
   "metadata": {},
   "source": [
    "## 3.1 AF: Which stocks or industries are the most volatile? What are the top 10 most volatile industries?"
   ]
  },
  {
   "cell_type": "markdown",
   "metadata": {},
   "source": [
    "## 3.3 KG: How do stocks that regularly pay dividends perform compared to those that do not?"
   ]
  },
  {
   "cell_type": "markdown",
   "metadata": {},
   "source": [
    "<hr style=\"border:2px solid gray\"> </hr> \n",
    "\n",
    "# 4. Interpretation"
   ]
  },
  {
   "cell_type": "markdown",
   "metadata": {},
   "source": [
    "## 4.1 AF: Which stocks or industries have shown the most consistent long-term growth?"
   ]
  },
  {
   "cell_type": "markdown",
   "metadata": {},
   "source": [
    "## 4.1 AF: Which stocks or industries are the most volatile? What are the top 10 most volatile industries?"
   ]
  },
  {
   "cell_type": "markdown",
   "metadata": {},
   "source": [
    "## 4.3 KG: How do stocks that regularly pay dividends perform compared to those that do not?"
   ]
  }
 ],
 "metadata": {
  "kernelspec": {
   "display_name": "techlabs_conda_env",
   "language": "python",
   "name": "python3"
  },
  "language_info": {
   "codemirror_mode": {
    "name": "ipython",
    "version": 3
   },
   "file_extension": ".py",
   "mimetype": "text/x-python",
   "name": "python",
   "nbconvert_exporter": "python",
   "pygments_lexer": "ipython3",
   "version": "3.12.4"
  }
 },
 "nbformat": 4,
 "nbformat_minor": 2
}
